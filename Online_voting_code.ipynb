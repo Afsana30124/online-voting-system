{
  "nbformat": 4,
  "nbformat_minor": 0,
  "metadata": {
    "colab": {
      "provenance": [],
      "authorship_tag": "ABX9TyOgLa3zEZdWRHNJJx7sj2oG",
      "include_colab_link": true
    },
    "kernelspec": {
      "name": "python3",
      "display_name": "Python 3"
    },
    "language_info": {
      "name": "python"
    }
  },
  "cells": [
    {
      "cell_type": "markdown",
      "metadata": {
        "id": "view-in-github",
        "colab_type": "text"
      },
      "source": [
        "<a href=\"https://colab.research.google.com/github/Afsana30124/online-voting-system/blob/main/Online_voting_code.ipynb\" target=\"_parent\"><img src=\"https://colab.research.google.com/assets/colab-badge.svg\" alt=\"Open In Colab\"/></a>"
      ]
    },
    {
      "cell_type": "code",
      "source": [
        "#Write a program for your selected project and perform different stages as below:\n",
        "#Implement online voting system using the percentage distribution solution.\n",
        "#Stages: hard-coding variables keyboard input, read from a file, for a single set of input, multiple sets of inputs.\n"
      ],
      "metadata": {
        "id": "p6rCdF1j1n2I"
      },
      "execution_count": 8,
      "outputs": []
    },
    {
      "cell_type": "code",
      "source": [
        "#Hard coding variables\n",
        "candidates = {\"Afsana\": 3, \"Kalpana\": 5, \"Lathika\": 2}\n",
        "total_votes = sum(candidates.values())\n",
        "\n",
        "# Calculate percentage distribution\n",
        "percentages = {candidate: (votes / total_votes) * 100 for candidate, votes in candidates.items()}\n",
        "\n",
        "print(\"Percentage Distribution (Hard-Coded Variables):\")\n",
        "for candidate, percentage in percentages.items():\n",
        "    print(f\"{candidate}: {percentage:.2f}%\")"
      ],
      "metadata": {
        "colab": {
          "base_uri": "https://localhost:8080/"
        },
        "id": "tKJPKR8bcRRg",
        "outputId": "3661621f-1971-4bee-c23d-0168257d456d"
      },
      "execution_count": 9,
      "outputs": [
        {
          "output_type": "stream",
          "name": "stdout",
          "text": [
            "Percentage Distribution (Hard-Coded Variables):\n",
            "Afsana: 30.00%\n",
            "Kalpana: 50.00%\n",
            "Lathika: 20.00%\n"
          ]
        }
      ]
    },
    {
      "cell_type": "code",
      "source": [
        "#Keyboard input\n",
        "candidates = {}\n",
        "num_candidates = int(input(\"Enter the number of candidates: \"))\n",
        "\n",
        "for _ in range(num_candidates):\n",
        "    name = input(\"Enter candidate name: \")\n",
        "    candidates[name] = 0\n",
        "\n",
        "# Input votes\n",
        "print(\"Enter votes (type 'done' to finish):\")\n",
        "while True:\n",
        "    vote = input(\"Vote for: \")\n",
        "    if vote.lower() == 'done':\n",
        "        break\n",
        "    if vote in candidates:\n",
        "        candidates[vote] += 1\n",
        "    else:\n",
        "        print(\"Invalid candidate!\")\n",
        "\n",
        "total_votes = sum(candidates.values())\n",
        "percentages = {candidate: (votes / total_votes) * 100 for candidate, votes in candidates.items()}\n",
        "print(\"Percentage Distribution (Keyboard Input):\")\n",
        "for candidate, percentage in percentages.items():\n",
        "    print(f\"{candidate}: {percentage:.2f}%\")\n"
      ],
      "metadata": {
        "id": "tLCq0DGM2TtC",
        "colab": {
          "base_uri": "https://localhost:8080/"
        },
        "outputId": "9cec8cd0-55ef-4d54-eb2a-408c66c7babe"
      },
      "execution_count": 4,
      "outputs": [
        {
          "output_type": "stream",
          "name": "stdout",
          "text": [
            "Enter the number of candidates: 4\n",
            "Enter candidate name: afsana\n",
            "Enter candidate name: kalpana\n",
            "Enter candidate name: lathika\n",
            "Enter candidate name: ayisha\n",
            "Enter votes (type 'done' to finish):\n",
            "Vote for: afsana\n",
            "Vote for: afsana\n",
            "Vote for: kalpana\n",
            "Vote for: ayisha\n",
            "Vote for: lathika\n",
            "Vote for: afsana\n",
            "Vote for: ayisha\n",
            "Vote for: afsana\n",
            "Vote for: kalpana\n",
            "Vote for: done\n",
            "Percentage Distribution (Keyboard Input):\n",
            "afsana: 44.44%\n",
            "kalpana: 22.22%\n",
            "lathika: 11.11%\n",
            "ayisha: 22.22%\n"
          ]
        }
      ]
    },
    {
      "cell_type": "code",
      "source": [
        "#Single Set of Input\n",
        "def calculate_percentages(candidates):\n",
        "    \"\"\"Calculate the percentage distribution for each candidate.\"\"\"\n",
        "    total_votes = sum(candidates.values())\n",
        "    if total_votes == 0:\n",
        "        return {candidate: 0 for candidate in candidates}\n",
        "    return {candidate: (votes / total_votes) * 100 for candidate, votes in candidates.items()}\n",
        "def process_single_set(file_path):\n",
        "    \"\"\"Process a single set of input votes.\"\"\"\n",
        "    candidates = {}\n",
        "\n",
        "    with open(file_path, \"r\") as file:\n",
        "        votes = file.readlines()\n",
        "\n",
        "    for vote in votes:\n",
        "        vote = vote.strip()\n",
        "        if vote:\n",
        "            candidates[vote] = candidates.get(vote, 0) + 1\n",
        "    percentages = calculate_percentages(candidates)\n",
        "\n",
        "    print(\"Percentage Distribution (Single Set of Input):\")\n",
        "    for candidate, percentage in percentages.items():\n",
        "        print(f\"{candidate}: {percentage:.2f}%\")\n",
        "# File path\n",
        "file_path = \"votes_single.txt\"\n",
        "process_single_set(file_path)\n"
      ],
      "metadata": {
        "colab": {
          "base_uri": "https://localhost:8080/"
        },
        "id": "EXwcLZFPYxdp",
        "outputId": "90f25f04-bc24-41e5-9052-bc1a56e5c0dc"
      },
      "execution_count": 6,
      "outputs": [
        {
          "output_type": "stream",
          "name": "stdout",
          "text": [
            "Percentage Distribution (Single Set of Input):\n",
            "Afsana: 37.50%\n",
            "Thanmayi: 25.00%\n",
            "Ayisha: 37.50%\n"
          ]
        }
      ]
    },
    {
      "cell_type": "code",
      "source": [
        "# Multiple Sets of Input\n",
        "def calculate_percentages(candidates):\n",
        "    \"\"\"Calculate the percentage distribution for each candidate.\"\"\"\n",
        "    total_votes = sum(candidates.values())\n",
        "    if total_votes == 0:\n",
        "        return {candidate: 0 for candidate in candidates}\n",
        "    return {candidate: (votes / total_votes) * 100 for candidate, votes in candidates.items()}\n",
        "\n",
        "def process_multiple_sets(file_path):\n",
        "    \"\"\"Process multiple sets of input votes.\"\"\"\n",
        "    sessions = []\n",
        "    with open(file_path, \"r\") as file:\n",
        "        votes = file.readlines()\n",
        "\n",
        "    current_session = []\n",
        "    for vote in votes:\n",
        "        vote = vote.strip()\n",
        "        if vote == \"---\":\n",
        "            if current_session:\n",
        "                sessions.append(current_session)\n",
        "                current_session = []\n",
        "        elif vote:\n",
        "            current_session.append(vote)\n",
        "    if current_session:\n",
        "        sessions.append(current_session)\n",
        "\n",
        "    candidates = {}\n",
        "    for session in sessions:\n",
        "        for vote in session:\n",
        "            candidates[vote] = candidates.get(vote, 0) + 1\n",
        "\n",
        "    percentages = calculate_percentages(candidates)\n",
        "\n",
        "    print(\"Percentage Distribution (Multiple Sets of Input):\")\n",
        "    for candidate, percentage in percentages.items():\n",
        "        print(f\"{candidate}: {percentage:.2f}%\")\n",
        "\n",
        "# File path\n",
        "file_path = \"votes_multiple.txt\"\n",
        "process_multiple_sets(file_path)\n"
      ],
      "metadata": {
        "colab": {
          "base_uri": "https://localhost:8080/"
        },
        "id": "DuNsidxiaUlh",
        "outputId": "4eb82bc6-a516-4566-b583-0e26762683e9"
      },
      "execution_count": 7,
      "outputs": [
        {
          "output_type": "stream",
          "name": "stdout",
          "text": [
            "Percentage Distribution (Multiple Sets of Input):\n",
            "Afsana: 32.14%\n",
            "Thanmayi: 32.14%\n",
            "Ayisha: 35.71%\n"
          ]
        }
      ]
    }
  ]
}